{
 "cells": [
  {
   "cell_type": "code",
   "execution_count": 2,
   "id": "583a196a",
   "metadata": {
    "pycharm": {
     "name": "#%%\n"
    }
   },
   "outputs": [],
   "source": [
    "import numpy as np\n",
    "import matplotlib.pyplot as plt\n",
    "from winsound import Beep\n",
    "from datetime import datetime\n",
    "from multiprocessing import cpu_count, Pool\n",
    "import  multiprocessing as mp\n",
    "from concurrent.futures import ProcessPoolExecutor\n",
    "\n",
    "def qdot(state, params):\n",
    "    return state[:, 2:4]\n",
    "\n",
    "\n",
    "def pdot(state, params):\n",
    "    positions = state[:, 0:2]\n",
    "    L = params[0]  #length scale of potential\n",
    "    A = params[1]  #Strength of potential\n",
    "    rij = positions[:, np.newaxis, :] - positions[np.newaxis, :, :]\n",
    "    #shift as needed\n",
    "    mask = np.abs(rij[:,:,0])>0.5\n",
    "    rij[mask,0] = rij[mask,0] - np.sign(rij[mask,0])\n",
    "    mask = np.abs(rij[:,:,1])>0.5\n",
    "    rij[mask,1] = rij[mask,1] - np.sign(rij[mask,1])\n",
    "    dsq = np.linalg.norm(rij, axis=2)**2\n",
    "    dsq = np.stack([dsq, dsq], axis=2)\n",
    "    force = 2*A*rij/(L**2)*np.exp(-dsq/(L**2))\n",
    "    v = np.sum(force, axis=0)\n",
    "\n",
    "    return v\n",
    "\n",
    "\n",
    "def fix_state(state):\n",
    "    N = np.size(state, 0)\n",
    "    for i in np.arange(0, N, 1):\n",
    "        for j in np.arange(0, 2, 1):\n",
    "            if state[i, j] > 1:\n",
    "                state[i, j] = state[i, j] - 1\n",
    "            if state[i, j] < 0:\n",
    "                state[i, j] = state[i, j] + 1\n",
    "    return state\n",
    "\n",
    "\n",
    "def symplectic_step(state, h, params):\n",
    "    #Third order symplectic step\n",
    "    #Taken from Wikipedia \n",
    "    state[:, 0:2] = state[:, 0:2] + 1 * h * qdot(state, params)\n",
    "    fix_state(state)\n",
    "    state[:, 2:4] = state[:, 2:4] - 1 / 24 * h * pdot(state, params)\n",
    "    state[:, 0:2] = state[:, 0:2] - 2 / 3 * h * qdot(state, params)\n",
    "    fix_state(state)\n",
    "    state[:, 2:4] = state[:, 2:4] + 3 / 4 * h * pdot(state, params)\n",
    "    state[:, 0:2] = state[:, 0:2] + 2 / 3 * h * qdot(state, params)\n",
    "    fix_state(state)\n",
    "    state[:, 2:4] = state[:, 2:4] + 7 / 24 * h * pdot(state, params)\n",
    "\n",
    "    return state\n",
    "\n",
    "def save_plot(args):\n",
    "    i, state = args\n",
    "    #scatter plot state\n",
    "    fig = plt.figure(dpi=400)\n",
    "    plt.scatter( state[:,0], state[:,1] )\n",
    "    plt.xlim([0,1])\n",
    "    plt.ylim([0,1])\n",
    "    fig.savefig('gas/' + str(i) + '.png')\n",
    "    plt.close()"
   ]
  },
  {
   "cell_type": "code",
   "execution_count": 3,
   "id": "8c4dbef8",
   "metadata": {
    "pycharm": {
     "name": "#%%\n"
    }
   },
   "outputs": [
    {
     "name": "stdout",
     "output_type": "stream",
     "text": [
      "0:00:01.650997\n",
      " "
     ]
    }
   ],
   "source": [
    "%%prun\n",
    "\n",
    "st = datetime.now()\n",
    "N = 64  #number of particles\n",
    "\n",
    "L = 1 / 10  #interaction length\n",
    "A = 1  #interaction strength\n",
    "params = np.array([L, A])\n",
    "\n",
    "every = 4  #take this many timesteps before saving to array\n",
    "M = 128  #saved timesteps\n",
    "\n",
    "h = 1e-2  #the true timestep used will be h/every\n",
    "\n",
    "traj = np.zeros([N, 4, M])\n",
    "state = np.zeros([N, 4])\n",
    "\n",
    "#initial data\n",
    "#state[i,:] = (xi,yi,vxi,vyi)\n",
    "state[:, 0:2] = np.random.rand(N, 2)\n",
    "#state[:,2] = np.sin( 4*np.pi*state[:,1] ) + 0.1*np.sin( 6*np.pi*state[:,1] - 2 )\n",
    "#state[:,3] = np.sin( 4*np.pi*state[:,0] )\n",
    "\n",
    "traj[:, :, 0] = state\n",
    "\n",
    "for i in np.arange(1, M, 1):\n",
    "    for j in np.arange(0, every, 1):\n",
    "        state = symplectic_step(state, h / every, params)\n",
    "    traj[:, :, i] = state\n",
    "print(datetime.now() - st)\n",
    "st = datetime.now()\n",
    "\n",
    "\n",
    "def iterate_array(arr):\n",
    "    for i in range(arr.shape[-1]):\n",
    "        yield i, arr[:,:, i]\n",
    "\n",
    "\n",
    "for e in iterate_array(traj):\n",
    "    save_plot(e)\n",
    "\n",
    "\n",
    "print(datetime.now() - st)\n",
    "\n",
    "Beep(500, 500)"
   ]
  }
 ],
 "metadata": {
  "kernelspec": {
   "display_name": "Python 3 (ipykernel)",
   "language": "python",
   "name": "python3"
  },
  "language_info": {
   "codemirror_mode": {
    "name": "ipython",
    "version": 3
   },
   "file_extension": ".py",
   "mimetype": "text/x-python",
   "name": "python",
   "nbconvert_exporter": "python",
   "pygments_lexer": "ipython3",
   "version": "3.7.13"
  }
 },
 "nbformat": 4,
 "nbformat_minor": 5
}
