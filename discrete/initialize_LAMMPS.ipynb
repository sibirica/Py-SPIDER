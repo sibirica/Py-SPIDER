{
 "cells": [
  {
   "cell_type": "code",
   "execution_count": 19,
   "id": "f8c73904-85dd-47ac-9e69-7e5d231e199d",
   "metadata": {},
   "outputs": [],
   "source": [
    "import numpy as np\n",
    "\n",
    "def write_IC_file(pos, vs, filename, Lx=1, Ly=1):\n",
    "    N = len(pos)\n",
    "    with open(filename, 'x') as f:\n",
    "        new_line = lambda: f.write('\\n')\n",
    "        f.write('LAMMPS data file\\n')\n",
    "        new_line()\n",
    "        f.write(f'{N} atoms\\n')\n",
    "        new_line()\n",
    "        f.write('1 atom types\\n')\n",
    "        new_line()\n",
    "        f.write(f'-{Lx} {Lx} xlo xhi\\n')\n",
    "        f.write(f'-{Ly} {Ly} ylo yhi\\n')\n",
    "        f.write(f'-0.1 0.1 zlo zhi\\n')\n",
    "        new_line()\n",
    "        f.write('Masses\\n')\n",
    "        new_line()\n",
    "        f.write('1 1\\n')\n",
    "        new_line()\n",
    "        f.write('Atoms\\n')\n",
    "        new_line()\n",
    "        for i in range(N):\n",
    "            f.write(f'{i+1} 1 {pos[i, 0]} {pos[i, 1]} 0.0 0 0 0\\n')\n",
    "        new_line()\n",
    "        f.write('Velocities\\n')\n",
    "        new_line()\n",
    "        for i in range(N):\n",
    "            f.write(f'{i+1} {vs[i, 0]} {vs[i, 1]} 0.0\\n')"
   ]
  },
  {
   "cell_type": "code",
   "execution_count": 20,
   "id": "baeed395-6fe8-437a-b380-72638d0ed801",
   "metadata": {},
   "outputs": [],
   "source": [
    "N = 1024\n",
    "pos = np.random.rand(N, 2)-0.5\n",
    "vs = np.zeros(shape=(N, 2))\n",
    "vs[:, 0] = np.sin(4*np.pi*pos[:, 1]) + 0.1*np.sin(6*np.pi*pos[:, 1] - 2)\n",
    "vs[:, 1] = np.sin(4*np.pi*pos[:, 0])\n",
    "\n",
    "write_IC_file(pos, vs, 'gauss_init.txt', Lx=0.5, Ly=0.5)"
   ]
  },
  {
   "cell_type": "code",
   "execution_count": null,
   "id": "0006696e-8031-4e70-a674-21493f936584",
   "metadata": {},
   "outputs": [],
   "source": []
  }
 ],
 "metadata": {
  "kernelspec": {
   "display_name": "Python 3 (ipykernel)",
   "language": "python",
   "name": "python3"
  },
  "language_info": {
   "codemirror_mode": {
    "name": "ipython",
    "version": 3
   },
   "file_extension": ".py",
   "mimetype": "text/x-python",
   "name": "python",
   "nbconvert_exporter": "python",
   "pygments_lexer": "ipython3",
   "version": "3.7.13"
  }
 },
 "nbformat": 4,
 "nbformat_minor": 5
}
